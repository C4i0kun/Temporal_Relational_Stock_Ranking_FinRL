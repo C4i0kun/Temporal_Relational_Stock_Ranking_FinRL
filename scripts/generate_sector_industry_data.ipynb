{
 "cells": [
  {
   "cell_type": "markdown",
   "metadata": {},
   "source": [
    "# Industry Relation"
   ]
  },
  {
   "cell_type": "code",
   "execution_count": 19,
   "metadata": {},
   "outputs": [],
   "source": [
    "import numpy as np"
   ]
  },
  {
   "cell_type": "code",
   "execution_count": null,
   "metadata": {},
   "outputs": [],
   "source": [
    "# Set the stock market (NASDAQ or NYSE)\n",
    "market = \"NASDAQ\""
   ]
  },
  {
   "cell_type": "code",
   "execution_count": 20,
   "metadata": {},
   "outputs": [],
   "source": [
    "a = np.load(\"../Temporal_Relational_Stock_Ranking/data/relation/sector_industry/{}_industry_relation.npy\".format(market))"
   ]
  },
  {
   "cell_type": "code",
   "execution_count": 21,
   "metadata": {},
   "outputs": [
    {
     "data": {
      "text/plain": [
       "(1026, 1026, 97)"
      ]
     },
     "execution_count": 21,
     "metadata": {},
     "output_type": "execute_result"
    }
   ],
   "source": [
    "a.shape"
   ]
  },
  {
   "cell_type": "markdown",
   "metadata": {},
   "source": [
    "## Consistency Tests"
   ]
  },
  {
   "cell_type": "markdown",
   "metadata": {},
   "source": [
    "### R(N) needs to have at least one value 1"
   ]
  },
  {
   "cell_type": "code",
   "execution_count": 22,
   "metadata": {},
   "outputs": [],
   "source": [
    "for i in range(a.shape[0]):\n",
    "    sum = np.sum(a[i][i])\n",
    "    if sum <= 0:\n",
    "        print(\"ERROR: condition not met!\")"
   ]
  },
  {
   "cell_type": "markdown",
   "metadata": {},
   "source": [
    "### R(A)∩R(B) = R(B)∩R(A)"
   ]
  },
  {
   "cell_type": "code",
   "execution_count": 23,
   "metadata": {},
   "outputs": [],
   "source": [
    "for i in range(a.shape[0]):\n",
    "    for j in range(a.shape[1]):\n",
    "        equal = np.array_equal(a[i][j], a[j][i])\n",
    "        if not equal:\n",
    "            print(\"ERROR: Not equal!\")"
   ]
  },
  {
   "cell_type": "markdown",
   "metadata": {},
   "source": [
    "### R(A)∩R(B) ⊂ R(A)"
   ]
  },
  {
   "cell_type": "code",
   "execution_count": 24,
   "metadata": {},
   "outputs": [],
   "source": [
    "for i in range(a.shape[0]):\n",
    "    for j in range(a.shape[1]):\n",
    "        result_1 = a[i][j] * a[i][i]\n",
    "        result_2 = a[j][i] * a[i][i]\n",
    "        if not np.array_equal(result_1, a[i][j]):\n",
    "            print(\"ERROR: Not equal!\")\n",
    "        if not np.array_equal(result_2, a[j][i]):\n",
    "            print(\"ERROR: Not equal!\")"
   ]
  },
  {
   "cell_type": "markdown",
   "metadata": {},
   "source": [
    "## Conversion to edge_index"
   ]
  },
  {
   "cell_type": "code",
   "execution_count": 25,
   "metadata": {},
   "outputs": [],
   "source": [
    "# function to add edge to edge_index\n",
    "def add_edge(edge_index, orig_node, dest_node, undirected=True):\n",
    "    array_to_add = np.array([[orig_node], [dest_node]])\n",
    "    if edge_index is None:\n",
    "        new_edge_index = array_to_add.copy()\n",
    "    else:\n",
    "        new_edge_index = np.hstack((edge_index, array_to_add))\n",
    "    if undirected:\n",
    "        array_to_add = np.array([[dest_node], [orig_node]])\n",
    "        new_edge_index = np.hstack((new_edge_index, array_to_add))\n",
    "    return new_edge_index"
   ]
  },
  {
   "cell_type": "code",
   "execution_count": 26,
   "metadata": {},
   "outputs": [
    {
     "name": "stdout",
     "output_type": "stream",
     "text": [
      "26293\n",
      "(2, 52586)\n",
      "1025\n"
     ]
    }
   ],
   "source": [
    "# loop array\n",
    "edges = 0\n",
    "edge_index = None\n",
    "for i in range(a.shape[0]):\n",
    "    for j in range(i + 1, a.shape[1]):\n",
    "        if a[i][j].sum() > 0:\n",
    "            edge_index = add_edge(edge_index, i, j)\n",
    "            edges += 1\n",
    "\n",
    "print(edges)\n",
    "print(edge_index.shape)\n",
    "print(np.max(edge_index))"
   ]
  },
  {
   "cell_type": "markdown",
   "metadata": {},
   "source": [
    "## Save"
   ]
  },
  {
   "cell_type": "code",
   "execution_count": 27,
   "metadata": {},
   "outputs": [],
   "source": [
    "np.save(\"../relational_data/edge_indexes/{}_sector_industry_edge_index.npy\".format(market), edge_index)"
   ]
  },
  {
   "cell_type": "markdown",
   "metadata": {},
   "source": [
    "## Visualization"
   ]
  },
  {
   "cell_type": "code",
   "execution_count": 19,
   "metadata": {},
   "outputs": [],
   "source": [
    "import torch\n",
    "from torch_geometric.data import Data\n",
    "\n",
    "edge_index = torch.tensor(edge_index, dtype=torch.long)\n",
    "x = torch.zeros(1, a.shape[0])\n",
    "\n",
    "data = Data(x=x, edge_index=edge_index, num_nodes=a.shape[0])"
   ]
  },
  {
   "cell_type": "code",
   "execution_count": 20,
   "metadata": {},
   "outputs": [],
   "source": [
    "import networkx as nx\n",
    "from torch_geometric.utils import to_networkx\n",
    "\n",
    "g = to_networkx(data, to_undirected=True)\n",
    "nx.write_gexf(g, \"../relational_data/gephi_visualizations/{}_sector_industry.gexf\".format(market))"
   ]
  }
 ],
 "metadata": {
  "kernelspec": {
   "display_name": "graph",
   "language": "python",
   "name": "python3"
  },
  "language_info": {
   "codemirror_mode": {
    "name": "ipython",
    "version": 3
   },
   "file_extension": ".py",
   "mimetype": "text/x-python",
   "name": "python",
   "nbconvert_exporter": "python",
   "pygments_lexer": "ipython3",
   "version": "3.10.13"
  }
 },
 "nbformat": 4,
 "nbformat_minor": 2
}
